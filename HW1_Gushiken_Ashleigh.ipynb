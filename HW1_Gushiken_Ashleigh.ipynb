{
 "cells": [
  {
   "cell_type": "code",
   "execution_count": 23,
   "id": "6a3e0aa7",
   "metadata": {},
   "outputs": [
    {
     "name": "stdout",
     "output_type": "stream",
     "text": [
      "[30, 35, 40, 45, 50, 55, 60]\n",
      "[60, 55, 50, 45, 40, 35, 30]\n",
      "[65, 60, 55, 50, 45, 40, 35, 30]\n"
     ]
    }
   ],
   "source": [
    "#Generate a list of numbers from 30 to 60 with interval 5, using range\n",
    "nums = list(range(30,61,5))\n",
    "print(nums)\n",
    "#Order list in reversed order\n",
    "print(nums[::-1])\n",
    "#Insert 65 to the beginning of the new list\n",
    "nums += [65]\n",
    "print(nums[::-1])"
   ]
  },
  {
   "cell_type": "code",
   "execution_count": 31,
   "id": "6848333a",
   "metadata": {},
   "outputs": [
    {
     "name": "stdout",
     "output_type": "stream",
     "text": [
      "[]\n",
      "[0, 1, 2, 3, 4, 5, 6, 7, 8, 9, 10, 11, 12, 13, 14, 15, 16, 17, 18, 19, 20]\n",
      "[1, 2, 3, 4, 5, 6, 7, 8, 9, 10, 11, 12, 13, 14, 15, 16, 17, 18, 19, 20]\n",
      "20\n",
      "1\n",
      "210\n"
     ]
    }
   ],
   "source": [
    "#Create an empty list and append integers from 0 to 20 to this list\n",
    "nums = []\n",
    "print(nums)\n",
    "for number in range(0, 21):\n",
    "    nums += [number]\n",
    "print(nums)\n",
    "#Delete item 0\n",
    "del nums[0]\n",
    "print(nums)\n",
    "#Return the length, maximal, and minimal values of the newest list\n",
    "len(nums)\n",
    "print(nums[-1])\n",
    "print(nums[0])\n",
    "#Sum up all of the items\n",
    "print(sum(nums))"
   ]
  },
  {
   "cell_type": "code",
   "execution_count": 47,
   "id": "aec95dcc",
   "metadata": {},
   "outputs": [
    {
     "name": "stdout",
     "output_type": "stream",
     "text": [
      "When sunny let us play\n",
      "When rainy let us watch TV\n",
      "When cloudy let us walk\n",
      "\n",
      "When sunny let us play\n",
      "When rainy let us watch TV\n",
      "When cloudy let us walk\n",
      "When snowy let us ski\n"
     ]
    }
   ],
   "source": [
    "#Create a weather dictionary\n",
    "weather_dictionary = {\"sunny\": \"play\", \"rainy\": \"watch TV\", \"cloudy\": \"walk\"}\n",
    "for key in weather_dictionary.keys():\n",
    "    print(\"When\", key, \"let us\", weather_dictionary[key])\n",
    "new_key = \"snowy\"\n",
    "new_value = \"ski\"\n",
    "\n",
    "print()\n",
    "\n",
    "#Add a new pair\n",
    "weather_dictionary.update({\"snowy\": \"ski\"})\n",
    "for key in weather_dictionary.keys():\n",
    "    print(\"When\", key, \"let us\", weather_dictionary[key])"
   ]
  }
 ],
 "metadata": {
  "kernelspec": {
   "display_name": "Python 3 (ipykernel)",
   "language": "python",
   "name": "python3"
  },
  "language_info": {
   "codemirror_mode": {
    "name": "ipython",
    "version": 3
   },
   "file_extension": ".py",
   "mimetype": "text/x-python",
   "name": "python",
   "nbconvert_exporter": "python",
   "pygments_lexer": "ipython3",
   "version": "3.9.13"
  }
 },
 "nbformat": 4,
 "nbformat_minor": 5
}
